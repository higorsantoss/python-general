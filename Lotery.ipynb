{
 "cells": [
  {
   "cell_type": "markdown",
   "metadata": {},
   "source": [
    "## Lotery Numbers\n"
   ]
  },
  {
   "cell_type": "code",
   "execution_count": null,
   "metadata": {},
   "outputs": [],
   "source": [
    "import random"
   ]
  },
  {
   "cell_type": "code",
   "execution_count": null,
   "metadata": {},
   "outputs": [],
   "source": [
    "\"\"\"\n",
    "Python - Basics\n",
    "Generates a number of games according to the amount informed by the user\n",
    "\n",
    "I limited it to 7 because in my country games are limited to 7 games per user, \n",
    "so sometimes I play according to the numbers that python generates \n",
    "(if one day I'm lucky with the numbers generated I'll let you know :D)\n",
    "\"\"\"\n",
    "\n",
    "result = []\n",
    "games = []\n",
    "\n",
    "print('########## Lottery  ##########')\n",
    "print()\n",
    "\n",
    "rounds = input(\"How many games do you want to play?\")\n",
    "\n",
    "\n",
    "def generate_numbers()-> list:\n",
    "    \"\"\"\n",
    "    function that generate 6 random numbers to be returned in a list to be played \n",
    "    \"\"\"\n",
    "    numbers = random.sample(range(1, 60), 6)\n",
    "    numbers = sorted(numbers)\n",
    "    games.append(numbers)\n",
    "\n",
    "if(rounds  == ''):\n",
    "    for _ in range(7):  \n",
    "        generate_numbers()    \n",
    "else:\n",
    "    for _ in range(int(rounds)):\n",
    "        generate_numbers()\n",
    "\n",
    "result.append(games)\n",
    "for lista in result:\n",
    "    for i, numbers in enumerate(lista, 1):\n",
    "        print(f\"Game {i}: {numbers}\")"
   ]
  },
  {
   "cell_type": "markdown",
   "metadata": {},
   "source": []
  },
  {
   "cell_type": "code",
   "execution_count": null,
   "metadata": {},
   "outputs": [],
   "source": []
  }
 ],
 "metadata": {
  "interpreter": {
   "hash": "d9966961a09ccfa1d368628902fef1bfa21b35533261416452c5d20b6cb75752"
  },
  "kernelspec": {
   "display_name": "Python 3.9.7 ('base')",
   "language": "python",
   "name": "python3"
  },
  "language_info": {
   "codemirror_mode": {
    "name": "ipython",
    "version": 3
   },
   "file_extension": ".py",
   "mimetype": "text/x-python",
   "name": "python",
   "nbconvert_exporter": "python",
   "pygments_lexer": "ipython3",
   "version": "3.9.0"
  },
  "orig_nbformat": 4
 },
 "nbformat": 4,
 "nbformat_minor": 2
}
