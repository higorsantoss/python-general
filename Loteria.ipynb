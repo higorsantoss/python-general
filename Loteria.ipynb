{
 "cells": [
  {
   "cell_type": "code",
   "execution_count": 107,
   "metadata": {},
   "outputs": [],
   "source": [
    "import random\n"
   ]
  },
  {
   "cell_type": "code",
   "execution_count": 125,
   "metadata": {},
   "outputs": [
    {
     "name": "stdout",
     "output_type": "stream",
     "text": [
      "########## Numero para loterias ##########\n",
      "\n",
      "Jogo 1: [6, 30, 33, 38, 42, 46]\n",
      "Jogo 1: [6, 30, 33, 38, 42, 46]\n",
      "Jogo 2: [8, 9, 11, 34, 49, 51]\n",
      "Jogo 1: [6, 30, 33, 38, 42, 46]\n",
      "Jogo 2: [8, 9, 11, 34, 49, 51]\n",
      "Jogo 1: [6, 30, 33, 38, 42, 46]\n",
      "Jogo 2: [8, 9, 11, 34, 49, 51]\n",
      "Jogo 3: [4, 18, 20, 36, 38, 43]\n",
      "Jogo 1: [6, 30, 33, 38, 42, 46]\n",
      "Jogo 2: [8, 9, 11, 34, 49, 51]\n",
      "Jogo 3: [4, 18, 20, 36, 38, 43]\n",
      "Jogo 1: [6, 30, 33, 38, 42, 46]\n",
      "Jogo 2: [8, 9, 11, 34, 49, 51]\n",
      "Jogo 3: [4, 18, 20, 36, 38, 43]\n"
     ]
    }
   ],
   "source": [
    "print('########## Numero para loterias ##########')\n",
    "print()\n",
    "\n",
    "rodadas = input(\"Quantos jogos quer deseja fazer?\")\n",
    "\n",
    "lista_final = []\n",
    "\n",
    "lista_jogos = []\n",
    "numeros = {0}\n",
    "\n",
    "if(rodadas  == ''):\n",
    "    for variavel in range(7):\n",
    "       x = random.sample(range(1, 60), 6)\n",
    "       x = sorted(x)\n",
    "       lista_jogos.append(x)\n",
    "       lista_final.append(lista_jogos)\n",
    "       for lista in lista_final:\n",
    "            for i, x in enumerate(lista, 1):\n",
    "                print(f\"Jogo {i}: {x}\")\n",
    "\n",
    "else:\n",
    "    for variavel in range(int(rodadas)):\n",
    "        x = random.sample(range(1, 60), 6)\n",
    "        x = sorted(x)\n",
    "        lista_jogos.append(x)\n",
    "        lista_final.append(lista_jogos)\n",
    "        for lista in lista_final:\n",
    "            for i, x in enumerate(lista, 1):\n",
    "                print(f\"Jogo {i}: {x}\")\n",
    "        \n",
    "\n",
    "\n",
    "\n",
    "\n",
    "\n",
    "\n",
    "\n",
    "   \n",
    "\n",
    " "
   ]
  },
  {
   "cell_type": "markdown",
   "metadata": {},
   "source": []
  },
  {
   "cell_type": "code",
   "execution_count": null,
   "metadata": {},
   "outputs": [],
   "source": [
    "       #for indice in range(6):\n",
    "        #   pass\n",
    "    \n",
    "    # if(rodadas != ''):\n",
    "    #     for indice in range(5):    \n",
    "    #         numeros.add(random.randint(1, 60))\n",
    "    #         lista_jogos.append(numeros)\n",
    "    #     print(lista_jogos)\n",
    "        \n",
    "        #numeros.add(random.randint(1, 60))\n",
    "        #lista_jogos.append(numeros)\n",
    "        \n",
    "\n",
    "\n",
    "\n",
    "    \n",
    "    \n",
    "    #for indice in range(5):\n",
    "    #    numeros.add(random.randint(1, 60))\n",
    "    #lista_jogos.append(numeros)\n",
    "        \n",
    "# if 0 in numeros:\n",
    "#     numeros.remove(0)\n",
    "#     numeros.add(random.randint(1, 60))"
   ]
  },
  {
   "cell_type": "code",
   "execution_count": null,
   "metadata": {},
   "outputs": [],
   "source": []
  }
 ],
 "metadata": {
  "interpreter": {
   "hash": "d9966961a09ccfa1d368628902fef1bfa21b35533261416452c5d20b6cb75752"
  },
  "kernelspec": {
   "display_name": "Python 3.9.7 ('base')",
   "language": "python",
   "name": "python3"
  },
  "language_info": {
   "codemirror_mode": {
    "name": "ipython",
    "version": 3
   },
   "file_extension": ".py",
   "mimetype": "text/x-python",
   "name": "python",
   "nbconvert_exporter": "python",
   "pygments_lexer": "ipython3",
   "version": "3.9.7"
  },
  "orig_nbformat": 4
 },
 "nbformat": 4,
 "nbformat_minor": 2
}
